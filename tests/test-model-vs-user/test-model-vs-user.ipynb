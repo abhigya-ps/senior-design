{
 "cells": [
  {
   "cell_type": "code",
   "execution_count": 1,
   "metadata": {},
   "outputs": [],
   "source": [
    "import csv\n",
    "from datetime import datetime\n",
    "import matplotlib.pyplot as plt\n",
    "import numpy as np"
   ]
  },
  {
   "cell_type": "code",
   "execution_count": 2,
   "metadata": {},
   "outputs": [],
   "source": [
    "with open('RA_RA12S-701C37_2022-07-26-1559.csv', 'r') as file:\n",
    "    reader = csv.reader(file)\n",
    "    rows = list(reader)"
   ]
  },
  {
   "cell_type": "code",
   "execution_count": 3,
   "metadata": {},
   "outputs": [
    {
     "name": "stdout",
     "output_type": "stream",
     "text": [
      "151\n"
     ]
    }
   ],
   "source": [
    "timestamps = [row[0] for row in rows][1:]\n",
    "print(len(timestamps))"
   ]
  },
  {
   "cell_type": "code",
   "execution_count": 4,
   "metadata": {},
   "outputs": [
    {
     "data": {
      "text/plain": [
       "[<matplotlib.lines.Line2D at 0x2042b5c7a00>]"
      ]
     },
     "execution_count": 4,
     "metadata": {},
     "output_type": "execute_result"
    },
    {
     "data": {
      "image/png": "[encoded data removed]",
      "text/plain": [
       "<Figure size 432x288 with 1 Axes>"
      ]
     },
     "metadata": {
      "needs_background": "light"
     },
     "output_type": "display_data"
    }
   ],
   "source": [
    "temperatures = [row[4] for row in rows][1:]\n",
    "\n",
    "# convert temperatures from string to float\n",
    "temperatures = [float(temp) for temp in temperatures]\n",
    "\n",
    "plt.plot(temperatures)\n",
    "\n",
    "# upper and lower threshold estimate\n",
    "# upper threshold - 78.8\n",
    "# lower threshold - 76.2"
   ]
  },
  {
   "cell_type": "code",
   "execution_count": 13,
   "metadata": {},
   "outputs": [
    {
     "name": "stdout",
     "output_type": "stream",
     "text": [
      "Lowest temperature in the last 5 days: 76.1\n",
      "Highest temperature in the last 5 days: 83.3\n"
     ]
    }
   ],
   "source": [
    "# find the min and max\n",
    "min_temp = float('inf')\n",
    "max_temp = float('-inf')\n",
    "for temp in temperatures:\n",
    "    min_temp = min(min_temp, temp)\n",
    "    max_temp = max(max_temp, temp)\n",
    "\n",
    "print(\"Lowest temperature in the last 5 days:\", min_temp)\n",
    "print(\"Highest temperature in the last 5 days:\", max_temp)"
   ]
  },
  {
   "cell_type": "code",
   "execution_count": 14,
   "metadata": {},
   "outputs": [
    {
     "name": "stdout",
     "output_type": "stream",
     "text": [
      "Lower Bound 75.5841382904978\n",
      "Upper Bound 82.73586170950219\n"
     ]
    }
   ],
   "source": [
    "# calculating the upper and lower bounds through the median and standard deviation\n",
    "\n",
    "median = np.percentile(temperatures, 50)\n",
    "sd = np.std(temperatures)\n",
    "lower_bound = median - 2 * sd\n",
    "upper_bound = median + 2 * sd\n",
    "\n",
    "print(\"Lower Bound\", lower_bound)\n",
    "print(\"Upper Bound\", upper_bound)"
   ]
  },
  {
   "cell_type": "code",
   "execution_count": 3,
   "metadata": {},
   "outputs": [],
   "source": [
    "# data from last 30 days - from line 46 - columns E, J, O\n",
    "with open('30-days - RA_RA12S-701C37_2022-07-26-1729.csv', 'r') as file:\n",
    "    reader = csv.reader(file)\n",
    "    rows = list(reader)"
   ]
  },
  {
   "cell_type": "code",
   "execution_count": 38,
   "metadata": {},
   "outputs": [],
   "source": [
    "rows = rows[45:]"
   ]
  },
  {
   "cell_type": "code",
   "execution_count": 39,
   "metadata": {},
   "outputs": [],
   "source": [
    "timestamps = [row[0] for row in rows]"
   ]
  },
  {
   "cell_type": "code",
   "execution_count": 11,
   "metadata": {},
   "outputs": [
    {
     "name": "stdout",
     "output_type": "stream",
     "text": [
      "76.64\n",
      "77.54\n",
      "84.02\n"
     ]
    }
   ],
   "source": [
    "print(rows[0][4])\n",
    "print(rows[0][9])\n",
    "print(rows[0][14])"
   ]
  },
  {
   "cell_type": "code",
   "execution_count": 34,
   "metadata": {},
   "outputs": [
    {
     "name": "stdout",
     "output_type": "stream",
     "text": [
      "Lower Bound 74.54773159340132\n",
      "Upper Bound 80.53226840659869\n"
     ]
    }
   ],
   "source": [
    "# Column E - Ext Sensor 1 - lower and upper bound\n",
    "temp_col_E = [row[4] for row in rows]\n",
    "temperatures = [float(temp) for temp in temp_col_E if temp != \"\"]\n",
    "\n",
    "median = np.percentile(temperatures, 50)\n",
    "sd = np.std(temperatures)\n",
    "lower_bound = median - 2 * sd\n",
    "upper_bound = median + 2 * sd\n",
    "\n",
    "print(\"Lower Bound\", lower_bound)\n",
    "print(\"Upper Bound\", upper_bound)"
   ]
  },
  {
   "cell_type": "code",
   "execution_count": null,
   "metadata": {},
   "outputs": [],
   "source": [
    "# user estimate for Column E - Ext Sensor 1\n",
    "# lower bound - 75\n",
    "# upper bound - 83"
   ]
  },
  {
   "cell_type": "code",
   "execution_count": 35,
   "metadata": {},
   "outputs": [
    {
     "name": "stdout",
     "output_type": "stream",
     "text": [
      "Lower Bound 75.78144638842586\n",
      "Upper Bound 79.65855361157413\n"
     ]
    }
   ],
   "source": [
    "# Column J - Ext. Sensor 2 - lower and upper bound\n",
    "temp_col_J = [row[9] for row in rows]\n",
    "temperatures = [float(temp) for temp in temp_col_J if temp != \"\"]\n",
    "\n",
    "median = np.percentile(temperatures, 50)\n",
    "sd = np.std(temperatures)\n",
    "lower_bound = median - 2 * sd\n",
    "upper_bound = median + 2 * sd\n",
    "\n",
    "print(\"Lower Bound\", lower_bound)\n",
    "print(\"Upper Bound\", upper_bound)"
   ]
  },
  {
   "cell_type": "code",
   "execution_count": null,
   "metadata": {},
   "outputs": [],
   "source": [
    "# user estimate for Column J - Ext Sensor 2\n",
    "# lower bound - 76\n",
    "# upper bound - 81"
   ]
  },
  {
   "cell_type": "code",
   "execution_count": 37,
   "metadata": {},
   "outputs": [
    {
     "name": "stdout",
     "output_type": "stream",
     "text": [
      "Lower Bound 70.23365180527433\n",
      "Upper Bound 80.88634819472567\n"
     ]
    }
   ],
   "source": [
    "# Column Z - Ext Sensor 3 - lower and upper bound\n",
    "temp_col_Z = [row[25] for row in rows]\n",
    "temperatures = [float(temp) for temp in temp_col_Z if temp != \"\"]\n",
    "\n",
    "median = np.percentile(temperatures, 50)\n",
    "sd = np.std(temperatures)\n",
    "lower_bound = median - 2 * sd\n",
    "upper_bound = median + 2 * sd\n",
    "\n",
    "print(\"Lower Bound\", lower_bound)\n",
    "print(\"Upper Bound\", upper_bound)"
   ]
  },
  {
   "cell_type": "code",
   "execution_count": null,
   "metadata": {},
   "outputs": [],
   "source": [
    "# user estimate for Column Z - Ext Sensor 3\n",
    "# lower bound - 67\n",
    "# upper bound - 81"
   ]
  },
  {
   "cell_type": "code",
   "execution_count": 36,
   "metadata": {},
   "outputs": [
    {
     "name": "stdout",
     "output_type": "stream",
     "text": [
      "Lower Bound 83.54816361812323\n",
      "Upper Bound 87.73183638187678\n"
     ]
    }
   ],
   "source": [
    "# Column O - Int Sensor - lower and upper bound\n",
    "temp_col_O = [row[14] for row in rows]\n",
    "temperatures = [float(temp) for temp in temp_col_O if temp != \"\"]\n",
    "\n",
    "median = np.percentile(temperatures, 50)\n",
    "sd = np.std(temperatures)\n",
    "lower_bound = median - 2 * sd\n",
    "upper_bound = median + 2 * sd\n",
    "\n",
    "print(\"Lower Bound\", lower_bound)\n",
    "print(\"Upper Bound\", upper_bound)"
   ]
  },
  {
   "cell_type": "code",
   "execution_count": null,
   "metadata": {},
   "outputs": [],
   "source": [
    "# user estimate for Column O - Int Sensor\n",
    "# lower bound - 83\n",
    "# upper bound - 90"
   ]
  },
  {
   "cell_type": "code",
   "execution_count": null,
   "metadata": {},
   "outputs": [],
   "source": []
  }
 ],
 "metadata": {
  "kernelspec": {
   "display_name": "Python 3",
   "language": "python",
   "name": "python3"
  },
  "language_info": {
   "codemirror_mode": {
    "name": "ipython",
    "version": 3
   },
   "file_extension": ".py",
   "mimetype": "text/x-python",
   "name": "python",
   "nbconvert_exporter": "python",
   "pygments_lexer": "ipython3",
   "version": "3.9.2"
  }
 },
 "nbformat": 4,
 "nbformat_minor": 4
}
